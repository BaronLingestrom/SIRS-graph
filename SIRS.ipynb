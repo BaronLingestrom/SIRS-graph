{
 "cells": [
  {
   "cell_type": "code",
   "execution_count": 3,
   "metadata": {},
   "outputs": [],
   "source": [
    "import numpy as np\n",
    "import matplotlib.pyplot as plt"
   ]
  },
  {
   "cell_type": "markdown",
   "metadata": {},
   "source": [
    "### Főfüggvény"
   ]
  },
  {
   "cell_type": "code",
   "execution_count": 11,
   "metadata": {},
   "outputs": [
    {
     "data": {
      "image/png": "[encoded data removed]",
      "text/plain": [
       "<Figure size 432x288 with 1 Axes>"
      ]
     },
     "metadata": {
      "needs_background": "light"
     },
     "output_type": "display_data"
    }
   ],
   "source": [
    "L = 60\n",
    "N = 1000\n",
    "inf = 30 #starting number of infected men\n",
    "beta = 0.8\n",
    "gamma = 0.1\n",
    "alpha = 0.01\n",
    "\n",
    "lattice = np.zeros([L,L]) #grid of population\n",
    "\n",
    "i = 0\n",
    "while i < N:\n",
    "    place = np.random.randint(0,L, size=2)\n",
    "    if lattice[place[0], place[1]] == 1 or lattice[place[0], place[1]] == 2:\n",
    "        continue\n",
    "    elif i < inf:\n",
    "        lattice[place[0], place[1]] = 2   #infected\n",
    "        i += 1\n",
    "\n",
    "    if lattice[place[0], place[1]] == 1 or lattice[place[0], place[1]] == 2:\n",
    "        continue\n",
    "    else:\n",
    "        lattice[place[0], place[1]] = 1   #susceptible\n",
    "        i +=1\n",
    "\n",
    "\n",
    "sus, inf, rec = iterate(lattice, beta, gamma, alpha)\n",
    "\n",
    "plt.plot(range(len(sus)), sus, range(len(sus)), inf, range(len(sus)), rec)\n",
    "plt.legend(['sus', 'inf', 'rec'])\n",
    "plt.show()"
   ]
  },
  {
   "cell_type": "markdown",
   "metadata": {},
   "source": [
    "### Iterátor"
   ]
  },
  {
   "cell_type": "code",
   "execution_count": 7,
   "metadata": {},
   "outputs": [],
   "source": [
    "def iterate(lattice, beta, gamma, alpha):\n",
    "    sus = []\n",
    "    inf = []\n",
    "    rec = []\n",
    "    sus.append(len(np.where(lattice == 1)[0]))\n",
    "    inf.append(len(np.where(lattice == 2)[0]))\n",
    "    rec.append(len(np.where(lattice == 3)[0]))\n",
    "    # while inf[-1] > 0:\n",
    "    for i in range(500):\n",
    "        inf.append(infecting(lattice, beta))\n",
    "        rec.append(recovering(lattice, gamma))\n",
    "        back_to_basic(lattice, alpha)\n",
    "        sus.append(stepping(lattice))\n",
    "    return sus, inf, rec"
   ]
  },
  {
   "cell_type": "markdown",
   "metadata": {},
   "source": [
    "### Mgfertőzések eszkalálása"
   ]
  },
  {
   "cell_type": "code",
   "execution_count": 8,
   "metadata": {},
   "outputs": [],
   "source": [
    "# itt csak 4 szomszedot kell nezni, ha negyzetracs graf van\n",
    "# \n",
    "\n",
    "def infecting(lattice, beta):\n",
    "    N = np.shape(lattice)[0]\n",
    "    inf_x,inf_y = np.where(lattice == 2) #kivesszuk az aktualis racsbol az inf helyeket, es csak ezeket nezzuk-> miutan egy ciklusban fertozotte valt, azt nem nezi, mert a where el kivette az elejen az elozo korben fertozotteket es abban nem lesz benne\n",
    "    # print('Infected', inf_x, inf_y)\n",
    "    for n in range(len(inf_x)):\n",
    "        # print('Current', inf_x[n], inf_y[n])\n",
    "        for j in range(-1,2):   #sor\n",
    "            for k in range(-1,2):   #oszlop\n",
    "\n",
    "                #negy sarok\n",
    "                if inf_x[n] == 0 and inf_y[n] == 0 and j == -1 and k == -1: chance(N-1, N-1, beta)\n",
    "                elif inf_x[n] == 0 and inf_y[n] == N-1 and j == -1 and k == 1: chance(N-1, 0, beta)\n",
    "                elif inf_x[n] == N-1 and inf_y[n] == N-1 and j == 1 and k == 1: chance(0, 0, beta)\n",
    "                elif inf_x[n] == N-1 and inf_y[n] == 0 and j == 1 and k == -1: chance(0, N-1, beta)\n",
    "                \n",
    "                #negy szele\n",
    "                elif inf_x[n] == 0 and j == -1 and inf_y[n]+k != -1 and inf_y[n]+k != N: chance(N-1, inf_y[n]+k, beta)\n",
    "                elif inf_x[n] == N-1 and j == 1 and inf_y[n]+k != -1 and inf_y[n]+k != N: chance(0, inf_y[n]+k, beta)\n",
    "                elif inf_y[n] == 0 and k == -1 and inf_x[n]+j != -1 and inf_x[n]+j != N: chance(inf_x[n]+j, N-1, beta)\n",
    "                elif inf_y[n] == N-1 and k == 1 and inf_x[n]+j != -1 and inf_x[n]+j != N: chance(inf_x[n]+j, 0, beta)\n",
    "                \n",
    "                #belso pontok\n",
    "                else:\n",
    "                    chance(inf_x[n] + j, inf_y[n] + k, beta)\n",
    "    inf = np.where(lattice == 2) \n",
    "    return len(inf[0])\n",
    "\n",
    "                \n",
    "#milyen valseggel lesz a szomszed fertozott\n",
    "def chance(x, y, beta):\n",
    "    p = np.random.random()\n",
    "    # print(x, y)\n",
    "    if p < beta and lattice[x, y] == 1:\n",
    "        lattice[x, y] = 2\n"
   ]
  },
  {
   "cell_type": "markdown",
   "metadata": {},
   "source": [
    "### Meggyógyulások alakulása"
   ]
  },
  {
   "cell_type": "code",
   "execution_count": 9,
   "metadata": {},
   "outputs": [],
   "source": [
    "def recovering(lattice, gamma):\n",
    "    inf_x,inf_y = np.where(lattice == 2)\n",
    "    for n in range(len(inf_x)):\n",
    "        p = np.random.random()\n",
    "        if p < gamma:\n",
    "            lattice[inf_x[n], inf_y[n]] = 3\n",
    "    rec = np.where(lattice == 3)\n",
    "    return len(rec[0])\n",
    "\n",
    "def back_to_basic(lattice, alpha):\n",
    "    inf_x,inf_y = np.where(lattice == 3)\n",
    "    for n in range(len(inf_x)):\n",
    "        p = np.random.random()\n",
    "        if p < alpha:\n",
    "            lattice[inf_x[n], inf_y[n]] = 1\n",
    "    return"
   ]
  },
  {
   "cell_type": "markdown",
   "metadata": {},
   "source": [
    "### Időfejlődés lépésekkel"
   ]
  },
  {
   "cell_type": "code",
   "execution_count": 10,
   "metadata": {},
   "outputs": [],
   "source": [
    "def stepping(lattice):\n",
    "    N = np.shape(lattice)[0]\n",
    "    x,y = np.where(lattice > 0)\n",
    "    order = np.arange(len(x))\n",
    "    np.random.shuffle(order)\n",
    "    \n",
    "    for n in range(len(x)):\n",
    "        direction = np.random.randint(1,5)  # 1 up, 2 right, 3 down, 4 left\n",
    "        if direction == 1:          # a switch would be nice here, too bad it is only in 3.10 or higher version called match\n",
    "            dest_x = x[order[n]]+1\n",
    "            dest_y = y[order[n]]\n",
    "        elif direction == 2:\n",
    "            dest_x = x[order[n]]\n",
    "            dest_y = y[order[n]]+1\n",
    "        elif direction == 3:\n",
    "            dest_x = x[order[n]]-1\n",
    "            dest_y = y[order[n]]\n",
    "        elif direction == 4:\n",
    "            dest_x = x[order[n]]\n",
    "            dest_y = y[order[n]]-1\n",
    "\n",
    "        if dest_x == -1:\n",
    "            dest_x = N-1\n",
    "        if dest_x == N:\n",
    "            dest_x = 0\n",
    "        if  dest_y == -1:\n",
    "            dest_y = N-1\n",
    "        if dest_y == N:\n",
    "            dest_y = 0\n",
    "\n",
    "        if occupied(dest_x, dest_y):\n",
    "            continue\n",
    "        else:\n",
    "            lattice[dest_x, dest_y] = lattice[x[order[n]], y[order[n]]]\n",
    "            lattice[x[order[n]], y[order[n]]] = 0\n",
    "    return len(np.where(lattice == 1)[0])\n",
    "\n",
    "def occupied(x, y):\n",
    "    if lattice[x, y] > 0:\n",
    "        return True"
   ]
  },
  {
   "cell_type": "code",
   "execution_count": null,
   "metadata": {},
   "outputs": [],
   "source": []
  }
 ],
 "metadata": {
  "interpreter": {
   "hash": "febffbf1abe600e9ff9516a81f31ebff4580950e9863d966149071f0505ac46d"
  },
  "kernelspec": {
   "display_name": "Python 3.9.6 ('base')",
   "language": "python",
   "name": "python3"
  },
  "language_info": {
   "codemirror_mode": {
    "name": "ipython",
    "version": 3
   },
   "file_extension": ".py",
   "mimetype": "text/x-python",
   "name": "python",
   "nbconvert_exporter": "python",
   "pygments_lexer": "ipython3",
   "version": "3.9.6"
  },
  "orig_nbformat": 4
 },
 "nbformat": 4,
 "nbformat_minor": 2
}
