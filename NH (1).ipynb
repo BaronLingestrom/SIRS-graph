{
 "cells": [
  {
   "cell_type": "code",
   "execution_count": 1,
   "metadata": {},
   "outputs": [],
   "source": [
    "import numpy as np\n",
    "import matplotlib.pyplot as plt "
   ]
  },
  {
   "cell_type": "markdown",
   "metadata": {},
   "source": [
    "### Főfüggvény"
   ]
  },
  {
   "cell_type": "code",
   "execution_count": 8,
   "metadata": {},
   "outputs": [
    {
     "data": {
      "image/png": "[encoded data removed]",
      "text/plain": [
       "<Figure size 432x288 with 1 Axes>"
      ]
     },
     "metadata": {
      "needs_background": "light"
     },
     "output_type": "display_data"
    }
   ],
   "source": [
    "L = 20\n",
    "inf = 1 #staring infected number\n",
    "beta = 0.8\n",
    "gamma = 0.01\n",
    "alpha = 0.01\n",
    "limit = 0.8\n",
    "\n",
    "lattice = np.ones([L,L], dtype=int) # 1 is susceptible\n",
    "\n",
    "place = np.random.randint(0,L, size=2)\n",
    "lattice[place[0], place[1]] = 2   #infected\n",
    "# print(lattice)\n",
    "\n",
    "sus, inf, rec, t, case = iterate_square(lattice, beta, gamma, alpha, limit)\n",
    "\n",
    "plt.plot(range(len(sus)), sus, range(len(sus)), inf, range(len(sus)), rec)\n",
    "plt.legend(['sus', 'inf', 'rec'])\n",
    "plt.show()"
   ]
  },
  {
   "cell_type": "markdown",
   "metadata": {},
   "source": [
    "### Iterátor"
   ]
  },
  {
   "cell_type": "code",
   "execution_count": 2,
   "metadata": {},
   "outputs": [],
   "source": [
    "def iterate_square(lattice, beta, gamma, alpha, limit):\n",
    "    N = np.shape(lattice)[0] * np.shape(lattice)[1]\n",
    "    case = np.zeros(N, dtype=int)\n",
    "    sus = []\n",
    "    inf = []\n",
    "    rec = []\n",
    "    sus.append(len(np.where(lattice == 1)[0]))\n",
    "    inf.append(len(np.where(lattice == 2)[0]))\n",
    "    rec.append(len(np.where(lattice == 3)[0]))\n",
    "    case_count = [case_update(lattice, case)]\n",
    "\n",
    "    t = 0\n",
    "    while not (len(np.where(lattice == 2)[0]) == 0 or case_count[-1] >= N*limit ):\n",
    "        x,y = np.where(lattice == 2)\n",
    "        i = np.random.randint(0,len(x))\n",
    "\n",
    "        inf.append(infecting(x[i], y[i], beta))\n",
    "        rec.append(recovering(x[i], y[i], gamma))\n",
    "        sus.append(len(np.where(lattice == 1)[0]))\n",
    "        case_count.append(case_update(lattice, case))\n",
    "        t += 1\n",
    "        # print(lattice)\n",
    "        # print('------------')\n",
    "    return sus, inf, rec, t, case_count[-1]"
   ]
  },
  {
   "cell_type": "code",
   "execution_count": 3,
   "metadata": {},
   "outputs": [],
   "source": [
    "def case_update(lattice, case):\n",
    "    L = np.shape(lattice)[0]\n",
    "    x,y = np.where(lattice == 2)\n",
    "    for i in range(len(x)):\n",
    "        case[x[i]*L + y[i]] = 1  # 1 if they were ever infected \n",
    "    return len(np.where(case == 1)[0])"
   ]
  },
  {
   "cell_type": "markdown",
   "metadata": {},
   "source": [
    "### Megfertőzések eszkalálása"
   ]
  },
  {
   "cell_type": "code",
   "execution_count": 4,
   "metadata": {},
   "outputs": [],
   "source": [
    "def infecting(x, y, beta):\n",
    "    L = np.shape(lattice)[0]\n",
    "\n",
    "    iter = np.arange(4)\n",
    "    np.random.shuffle(iter)\n",
    "    for n in iter:    #shuffle for randomness on ther cardinal directions\n",
    "        if n == 0 and x-1 >= 0: #up\n",
    "            infect_chance(x - 1, y, beta)\n",
    "            break\n",
    "        elif n == 1 and y+1 < L: #right\n",
    "            infect_chance(x, y + 1, beta)\n",
    "            break\n",
    "        elif n == 2 and x+1 < L: #down\n",
    "            infect_chance(x + 1, y, beta)\n",
    "            break\n",
    "        elif n == 3 and y-1 >= 0: #left\n",
    "            infect_chance(x, y - 1, beta)\n",
    "            break\n",
    "    return len(np.where(lattice == 2)[0])\n",
    "                \n",
    "def infect_chance(x, y, beta):\n",
    "    p = np.random.random()\n",
    "    if p < beta and lattice[x,y] == 1:\n",
    "        lattice[x, y] = 2"
   ]
  },
  {
   "cell_type": "markdown",
   "metadata": {},
   "source": [
    "### Meggyógyulás"
   ]
  },
  {
   "cell_type": "code",
   "execution_count": 5,
   "metadata": {},
   "outputs": [],
   "source": [
    "def recovering(x, y, gamma):\n",
    "    p = np.random.random()\n",
    "    if p < gamma:\n",
    "        lattice[x, y] = 3\n",
    "    return len(np.where(lattice == 3)[0])"
   ]
  },
  {
   "cell_type": "markdown",
   "metadata": {},
   "source": [
    "### Immunitás elvesztése"
   ]
  },
  {
   "cell_type": "code",
   "execution_count": 89,
   "metadata": {},
   "outputs": [],
   "source": [
    "def losing_immunity():\n",
    "    pass"
   ]
  }
 ],
 "metadata": {
  "interpreter": {
   "hash": "febffbf1abe600e9ff9516a81f31ebff4580950e9863d966149071f0505ac46d"
  },
  "kernelspec": {
   "display_name": "Python 3.9.6 ('base')",
   "language": "python",
   "name": "python3"
  },
  "language_info": {
   "codemirror_mode": {
    "name": "ipython",
    "version": 3
   },
   "file_extension": ".py",
   "mimetype": "text/x-python",
   "name": "python",
   "nbconvert_exporter": "python",
   "pygments_lexer": "ipython3",
   "version": "3.9.6"
  },
  "orig_nbformat": 4
 },
 "nbformat": 4,
 "nbformat_minor": 2
}
