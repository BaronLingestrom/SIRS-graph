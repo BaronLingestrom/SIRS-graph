{
 "cells": [
  {
   "cell_type": "code",
   "execution_count": 10,
   "metadata": {},
   "outputs": [],
   "source": [
    "import numpy as np\n",
    "import matplotlib.pyplot as plt "
   ]
  },
  {
   "cell_type": "markdown",
   "metadata": {},
   "source": [
    "### Főfüggvény"
   ]
  },
  {
   "cell_type": "code",
   "execution_count": null,
   "metadata": {},
   "outputs": [],
   "source": [
    "L = 20\n",
    "inf = 1 #staring infected number\n",
    "beta = 0.8\n",
    "gamma = 0.01\n",
    "alpha = 0.01\n",
    "limit = 0.8\n",
    "iter = 500 #number of data points after interating the infection process (beta, gamma, end_cause)\n",
    "betas = np.zeros(iter)\n",
    "gammas = np.zeros(iter)\n",
    "ends = np.zeros(iter)\n",
    "\n",
    "lattice = np.ones([L,L], dtype=int) # 1 is susceptible\n",
    "\n",
    "place = np.random.randint(0,L, size=2)\n",
    "lattice[place[0], place[1]] = 2   #infected\n",
    "# print(lattice)\n",
    "\n",
    "for i in range(iter):\n",
    "    #cleat grid\n",
    "    lattice = np.ones([L,L], dtype=int) # 1 is susceptible\n",
    "    lattice[place[0], place[1]] = 2   #infected persons place remains!! we want the same conditions, but with different beta gammas\n",
    "\n",
    "    beta = np.random.randint(1,101) #itt nullaval osztas lenne\n",
    "    gamma = np.random.randint(1,101)\n",
    "    beta = beta/100\n",
    "    gamma = gamma/100\n",
    "\n",
    "    while (beta in betas and gamma in gammas):\n",
    "        beta = np.random.randint(1,101)\n",
    "        gamma = np.random.randint(1,101)\n",
    "        beta = beta/100\n",
    "        gamma = gamma/100  \n",
    "    betas[i]=beta \n",
    "    gammas[i]=gamma\n",
    "    sus, inf, rec, t, case, end_cause = iterate_square(lattice, beta, gamma, alpha, limit)\n",
    "    ends[i]=end_cause\n",
    "\n",
    "print(ends)\n",
    "print(betas)\n",
    "print(gammas)\n",
    "\n",
    "plt.scatter(betas,gammas, c=ends)"
   ]
  },
  {
   "cell_type": "code",
   "execution_count": null,
   "metadata": {},
   "outputs": [],
   "source": []
  },
  {
   "cell_type": "code",
   "execution_count": 25,
   "metadata": {},
   "outputs": [
    {
     "data": {
      "image/png": "[encoded data removed]",
      "text/plain": [
       "<Figure size 432x288 with 1 Axes>"
      ]
     },
     "metadata": {
      "needs_background": "light"
     },
     "output_type": "display_data"
    }
   ],
   "source": [
    "\n",
    "sus, inf, rec, t, case = iterate_square(lattice, beta, gamma, alpha, limit)\n",
    "plt.plot(range(len(sus)), sus, range(len(sus)), inf, range(len(sus)), rec)\n",
    "plt.legend(['sus', 'inf', 'rec'])\n",
    "plt.show()"
   ]
  },
  {
   "cell_type": "markdown",
   "metadata": {},
   "source": [
    "### Iterátor"
   ]
  },
  {
   "cell_type": "code",
   "execution_count": 29,
   "metadata": {},
   "outputs": [],
   "source": [
    "def iterate_square(lattice, beta, gamma, alpha, limit):\n",
    "    N = np.shape(lattice)[0] * np.shape(lattice)[1]\n",
    "    case = np.zeros(N, dtype=int)\n",
    "    sus = []\n",
    "    inf = []\n",
    "    rec = []\n",
    "    sus.append(len(np.where(lattice == 1)[0]))\n",
    "    inf.append(len(np.where(lattice == 2)[0]))\n",
    "    rec.append(len(np.where(lattice == 3)[0]))\n",
    "    case_count = [case_update(lattice, case)]\n",
    "\n",
    "    t = 0\n",
    "    while not (len(np.where(lattice == 2)[0]) == 0 or case_count[-1] >= N*limit):\n",
    "        x,y = np.where(lattice == 2)\n",
    "        i = np.random.randint(0,len(x))\n",
    "\n",
    "        inf.append(infecting(x[i], y[i], beta))\n",
    "        rec.append(recovering(x[i], y[i], gamma))\n",
    "        sus.append(len(np.where(lattice == 1)[0]))\n",
    "        case_count.append(case_update(lattice, case))\n",
    "        t += 1\n",
    "\n",
    "        # print(lattice)\n",
    "        # print('------------')\n",
    "    #end_cause - what caused the end of iteration: 0 if no infected, 1 if the disease reached the limit percentage of the population\n",
    "    if case_count[-1] >= N*limit:\n",
    "        end_cause = 0\n",
    "    else:\n",
    "        end_cause = 1\n",
    "\n",
    "    return sus, inf, rec, t, case_count[-1], end_cause"
   ]
  },
  {
   "cell_type": "code",
   "execution_count": 12,
   "metadata": {},
   "outputs": [],
   "source": [
    "def case_update(lattice, case):\n",
    "    L = np.shape(lattice)[0]\n",
    "    x,y = np.where(lattice == 2)\n",
    "    for i in range(len(x)):\n",
    "        case[x[i]*L + y[i]] = 1  # 1 if they were ever infected \n",
    "    return len(np.where(case == 1)[0])"
   ]
  },
  {
   "cell_type": "markdown",
   "metadata": {},
   "source": [
    "### Megfertőzések eszkalálása"
   ]
  },
  {
   "cell_type": "code",
   "execution_count": 13,
   "metadata": {},
   "outputs": [],
   "source": [
    "def infecting(x, y, beta):\n",
    "    L = np.shape(lattice)[0]\n",
    "\n",
    "    iter = np.arange(4)\n",
    "    np.random.shuffle(iter)\n",
    "    for n in iter:    #shuffle for randomness on ther cardinal directions\n",
    "        if n == 0 and x-1 >= 0: #up\n",
    "            infect_chance(x - 1, y, beta)\n",
    "            break\n",
    "        elif n == 1 and y+1 < L: #right\n",
    "            infect_chance(x, y + 1, beta)\n",
    "            break\n",
    "        elif n == 2 and x+1 < L: #down\n",
    "            infect_chance(x + 1, y, beta)\n",
    "            break\n",
    "        elif n == 3 and y-1 >= 0: #left\n",
    "            infect_chance(x, y - 1, beta)\n",
    "            break\n",
    "    return len(np.where(lattice == 2)[0])\n",
    "                \n",
    "def infect_chance(x, y, beta):\n",
    "    p = np.random.random()\n",
    "    if p < beta and lattice[x,y] == 1:\n",
    "        lattice[x, y] = 2"
   ]
  },
  {
   "cell_type": "markdown",
   "metadata": {},
   "source": [
    "### Meggyógyulás"
   ]
  },
  {
   "cell_type": "code",
   "execution_count": 14,
   "metadata": {},
   "outputs": [],
   "source": [
    "def recovering(x, y, gamma):\n",
    "    p = np.random.random()\n",
    "    if p < gamma:\n",
    "        lattice[x, y] = 3\n",
    "    return len(np.where(lattice == 3)[0])"
   ]
  },
  {
   "cell_type": "markdown",
   "metadata": {},
   "source": [
    "### Immunitás elvesztése"
   ]
  },
  {
   "cell_type": "code",
   "execution_count": null,
   "metadata": {},
   "outputs": [],
   "source": [
    "def losing_immunity():\n",
    "    pass"
   ]
  }
 ],
 "metadata": {
  "interpreter": {
   "hash": "febffbf1abe600e9ff9516a81f31ebff4580950e9863d966149071f0505ac46d"
  },
  "kernelspec": {
   "display_name": "Python 3.9.6 ('base')",
   "language": "python",
   "name": "python3"
  },
  "language_info": {
   "codemirror_mode": {
    "name": "ipython",
    "version": 3
   },
   "file_extension": ".py",
   "mimetype": "text/x-python",
   "name": "python",
   "nbconvert_exporter": "python",
   "pygments_lexer": "ipython3",
   "version": "3.9.6"
  },
  "orig_nbformat": 4
 },
 "nbformat": 4,
 "nbformat_minor": 2
}
